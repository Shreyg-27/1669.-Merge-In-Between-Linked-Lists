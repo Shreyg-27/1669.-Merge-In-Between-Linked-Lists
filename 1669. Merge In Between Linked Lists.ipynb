{
 "cells": [
  {
   "cell_type": "code",
   "execution_count": null,
   "id": "2772950f",
   "metadata": {},
   "outputs": [],
   "source": [
    "class Solution:\n",
    "    def mergeInBetween(self, list1: ListNode, a: int, b: int, list2: ListNode) -> ListNode:\n",
    "        prev, first, second = None, list1, list1\n",
    "        \n",
    "        \n",
    "        while b - a > 0:\n",
    "            second = second.next\n",
    "            b -= 1\n",
    "        \n",
    "       \n",
    "        while a > 0:\n",
    "            prev = first\n",
    "            first = first.next\n",
    "            second = second.next\n",
    "            a -= 1\n",
    "        \n",
    "        \n",
    "        prev.next = list2\n",
    "        \n",
    "       \n",
    "        curr = list2\n",
    "        while curr.next:\n",
    "            curr = curr.next\n",
    "        \n",
    "        \n",
    "        curr.next = second.next\n",
    "        \n",
    "        return list1"
   ]
  }
 ],
 "metadata": {
  "kernelspec": {
   "display_name": "Python 3 (ipykernel)",
   "language": "python",
   "name": "python3"
  },
  "language_info": {
   "codemirror_mode": {
    "name": "ipython",
    "version": 3
   },
   "file_extension": ".py",
   "mimetype": "text/x-python",
   "name": "python",
   "nbconvert_exporter": "python",
   "pygments_lexer": "ipython3",
   "version": "3.9.7"
  }
 },
 "nbformat": 4,
 "nbformat_minor": 5
}
